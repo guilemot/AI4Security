{
 "cells": [
  {
   "cell_type": "markdown",
   "id": "da37629d",
   "metadata": {},
   "source": [
    "# Importando as bibliotecas necessárias"
   ]
  },
  {
   "cell_type": "code",
   "execution_count": 34,
   "id": "0340dc9d",
   "metadata": {},
   "outputs": [],
   "source": [
    "from keras.models import Sequential\n",
    "from keras.layers import Dense\n",
    "from keras.optimizers import Adam\n",
    "from sklearn.model_selection import train_test_split\n",
    "from sklearn.preprocessing import StandardScaler\n",
    "import pandas as pd\n",
    "import matplotlib.pyplot as plt"
   ]
  },
  {
   "cell_type": "markdown",
   "id": "511df690",
   "metadata": {},
   "source": [
    "# Carregando um conjunto de dados de exemplo"
   ]
  },
  {
   "cell_type": "code",
   "execution_count": 35,
   "id": "3adac949",
   "metadata": {},
   "outputs": [],
   "source": [
    "url = \"https://raw.githubusercontent.com/jbrownlee/Datasets/master/ionosphere.csv\"\n",
    "df = pd.read_csv(url, header=None)"
   ]
  },
  {
   "cell_type": "markdown",
   "id": "c0cdc0d7",
   "metadata": {},
   "source": [
    "# Preparando os dados"
   ]
  },
  {
   "cell_type": "code",
   "execution_count": 36,
   "id": "11fa8cb7",
   "metadata": {},
   "outputs": [],
   "source": [
    "X = df.values[:, :-1]\n",
    "y = df.values[:, -1]"
   ]
  },
  {
   "cell_type": "markdown",
   "id": "da43b52e",
   "metadata": {},
   "source": [
    "# Convertendo rótulos para numéricos"
   ]
  },
  {
   "cell_type": "code",
   "execution_count": 37,
   "id": "4c65e037",
   "metadata": {},
   "outputs": [],
   "source": [
    "y = (y == 'g').astype(int)"
   ]
  },
  {
   "cell_type": "markdown",
   "id": "9dda4e19",
   "metadata": {},
   "source": [
    "# Dividindo os dados em conjuntos de treino e teste"
   ]
  },
  {
   "cell_type": "code",
   "execution_count": 38,
   "id": "534c7933",
   "metadata": {},
   "outputs": [],
   "source": [
    "X_train, X_test, y_train, y_test = train_test_split(X, y, test_size=0.2, random_state=42)"
   ]
  },
  {
   "cell_type": "markdown",
   "id": "eaec4261",
   "metadata": {},
   "source": [
    "# Normalizando os dados"
   ]
  },
  {
   "cell_type": "code",
   "execution_count": 39,
   "id": "efe767bc",
   "metadata": {},
   "outputs": [],
   "source": [
    "scaler = StandardScaler()\n",
    "X_train = scaler.fit_transform(X_train)\n",
    "X_test = scaler.transform(X_test)"
   ]
  },
  {
   "cell_type": "markdown",
   "id": "ff2c1ce0",
   "metadata": {},
   "source": [
    "# Contruindo o modelo de rede neural"
   ]
  },
  {
   "cell_type": "code",
   "execution_count": 40,
   "id": "459dcd8f",
   "metadata": {},
   "outputs": [],
   "source": [
    "model = Sequential([\n",
    "    Dense(64, activation='relu', input_shape=(X_train.shape[1],)),\n",
    "    Dense(64, activation='relu'),\n",
    "    Dense(1, activation='sigmoid')\n",
    "])"
   ]
  },
  {
   "cell_type": "markdown",
   "id": "0a28599c",
   "metadata": {},
   "source": [
    "# Compilando o modelo"
   ]
  },
  {
   "cell_type": "code",
   "execution_count": 41,
   "id": "8213b4a3",
   "metadata": {},
   "outputs": [],
   "source": [
    "model.compile(optimizer=Adam(), loss='binary_crossentropy', metrics=['accuracy'])"
   ]
  },
  {
   "cell_type": "markdown",
   "id": "1cbfb60a",
   "metadata": {},
   "source": [
    "# Treinando o modelo"
   ]
  },
  {
   "cell_type": "code",
   "execution_count": 42,
   "id": "41fd224a",
   "metadata": {},
   "outputs": [
    {
     "name": "stdout",
     "output_type": "stream",
     "text": [
      "Epoch 1/10\n",
      "8/8 [==============================] - 1s 25ms/step - loss: 0.6832 - accuracy: 0.5079 - val_loss: 0.5759 - val_accuracy: 0.7857\n",
      "Epoch 2/10\n",
      "8/8 [==============================] - 0s 6ms/step - loss: 0.5390 - accuracy: 0.7897 - val_loss: 0.4635 - val_accuracy: 0.8214\n",
      "Epoch 3/10\n",
      "8/8 [==============================] - 0s 5ms/step - loss: 0.4465 - accuracy: 0.8373 - val_loss: 0.3980 - val_accuracy: 0.8571\n",
      "Epoch 4/10\n",
      "8/8 [==============================] - 0s 6ms/step - loss: 0.3821 - accuracy: 0.8611 - val_loss: 0.3495 - val_accuracy: 0.8571\n",
      "Epoch 5/10\n",
      "8/8 [==============================] - 0s 6ms/step - loss: 0.3315 - accuracy: 0.8690 - val_loss: 0.3215 - val_accuracy: 0.8571\n",
      "Epoch 6/10\n",
      "8/8 [==============================] - 0s 5ms/step - loss: 0.2878 - accuracy: 0.8849 - val_loss: 0.3062 - val_accuracy: 0.8571\n",
      "Epoch 7/10\n",
      "8/8 [==============================] - 0s 6ms/step - loss: 0.2551 - accuracy: 0.9048 - val_loss: 0.2934 - val_accuracy: 0.8929\n",
      "Epoch 8/10\n",
      "8/8 [==============================] - 0s 6ms/step - loss: 0.2304 - accuracy: 0.9127 - val_loss: 0.2837 - val_accuracy: 0.8929\n",
      "Epoch 9/10\n",
      "8/8 [==============================] - 0s 6ms/step - loss: 0.2106 - accuracy: 0.9127 - val_loss: 0.2778 - val_accuracy: 0.8571\n",
      "Epoch 10/10\n",
      "8/8 [==============================] - 0s 7ms/step - loss: 0.1950 - accuracy: 0.9206 - val_loss: 0.2706 - val_accuracy: 0.8571\n"
     ]
    }
   ],
   "source": [
    "history = model.fit(X_train, y_train, epochs=10, validation_split=0.1)"
   ]
  },
  {
   "cell_type": "markdown",
   "id": "4f525016",
   "metadata": {},
   "source": [
    "# avaliando o modelo"
   ]
  },
  {
   "cell_type": "code",
   "execution_count": 43,
   "id": "6ae4bceb",
   "metadata": {},
   "outputs": [
    {
     "name": "stdout",
     "output_type": "stream",
     "text": [
      "3/3 [==============================] - 0s 2ms/step - loss: 0.2862 - accuracy: 0.9296\n",
      "Test accuracy: 0.93\n"
     ]
    }
   ],
   "source": [
    "loss, accuracy = model.evaluate(X_test, y_test)\n",
    "print(f\"Test accuracy: {accuracy:.2f}\")"
   ]
  },
  {
   "cell_type": "markdown",
   "id": "51ac9ab5",
   "metadata": {},
   "source": [
    "# Plotando a curva de aprendizado"
   ]
  },
  {
   "cell_type": "code",
   "execution_count": 45,
   "id": "84bb773a",
   "metadata": {},
   "outputs": [
    {
     "data": {
      "image/png": "[encoded data removed]",
      "text/plain": [
       "<Figure size 640x480 with 1 Axes>"
      ]
     },
     "metadata": {},
     "output_type": "display_data"
    }
   ],
   "source": [
    "plt.plot(history.history['accuracy'], label='Accuracy (training data)')\n",
    "plt.plot(history.history['val_accuracy'], label='Accuracy (validation data)')\n",
    "plt.title('Accuracy over Epochs')\n",
    "plt.ylabel('Accuracy')\n",
    "plt.xlabel('Epoch')\n",
    "plt.legend()\n",
    "plt.show()"
   ]
  },
  {
   "cell_type": "code",
   "execution_count": null,
   "id": "6fdb133d",
   "metadata": {},
   "outputs": [],
   "source": []
  }
 ],
 "metadata": {
  "kernelspec": {
   "display_name": "Python 3 (ipykernel)",
   "language": "python",
   "name": "python3"
  },
  "language_info": {
   "codemirror_mode": {
    "name": "ipython",
    "version": 3
   },
   "file_extension": ".py",
   "mimetype": "text/x-python",
   "name": "python",
   "nbconvert_exporter": "python",
   "pygments_lexer": "ipython3",
   "version": "3.11.5"
  }
 },
 "nbformat": 4,
 "nbformat_minor": 5
}
