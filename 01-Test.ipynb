{
 "cells": [
  {
   "cell_type": "markdown",
   "id": "98d3686b",
   "metadata": {},
   "source": [
    "# Importação de bibliotecas"
   ]
  },
  {
   "cell_type": "code",
   "execution_count": 7,
   "id": "88da896e",
   "metadata": {},
   "outputs": [],
   "source": [
    "import math"
   ]
  },
  {
   "cell_type": "markdown",
   "id": "4ad4daff",
   "metadata": {},
   "source": [
    "# Variável"
   ]
  },
  {
   "cell_type": "code",
   "execution_count": 8,
   "id": "10cb01af",
   "metadata": {},
   "outputs": [],
   "source": [
    "numero = 25"
   ]
  },
  {
   "cell_type": "code",
   "execution_count": 9,
   "id": "2bf0f63b",
   "metadata": {},
   "outputs": [],
   "source": [
    "raiz_quadrada = math.sqrt(numero)"
   ]
  },
  {
   "cell_type": "code",
   "execution_count": 10,
   "id": "f2ce79d7",
   "metadata": {},
   "outputs": [
    {
     "name": "stdout",
     "output_type": "stream",
     "text": [
      "A raiz quadrada é:  5.0\n"
     ]
    }
   ],
   "source": [
    "print(\"A raiz quadrada é: \", raiz_quadrada)"
   ]
  },
  {
   "cell_type": "code",
   "execution_count": null,
   "id": "6c2d2468",
   "metadata": {},
   "outputs": [],
   "source": []
  },
  {
   "cell_type": "code",
   "execution_count": null,
   "id": "3ff1bb65",
   "metadata": {},
   "outputs": [],
   "source": []
  }
 ],
 "metadata": {
  "kernelspec": {
   "display_name": "Python 3 (ipykernel)",
   "language": "python",
   "name": "python3"
  },
  "language_info": {
   "codemirror_mode": {
    "name": "ipython",
    "version": 3
   },
   "file_extension": ".py",
   "mimetype": "text/x-python",
   "name": "python",
   "nbconvert_exporter": "python",
   "pygments_lexer": "ipython3",
   "version": "3.11.5"
  }
 },
 "nbformat": 4,
 "nbformat_minor": 5
}
